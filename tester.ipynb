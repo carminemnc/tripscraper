{
 "cells": [
  {
   "cell_type": "code",
   "execution_count": null,
   "id": "b52a118b",
   "metadata": {},
   "outputs": [],
   "source": [
    "from scraper import *"
   ]
  },
  {
   "cell_type": "code",
   "execution_count": null,
   "id": "3e9140c8",
   "metadata": {},
   "outputs": [],
   "source": [
    "df = reviews_scraper('https://www.tripadvisor.it/Hotel_Review-g499445-d8285376-Reviews-Secrets_Akumal_Riviera_Maya-Akumal_Tulum_Yucatan_Peninsula.html',3)"
   ]
  }
 ],
 "metadata": {
  "kernelspec": {
   "display_name": "Python 3",
   "language": "python",
   "name": "python3"
  },
  "language_info": {
   "codemirror_mode": {
    "name": "ipython",
    "version": 3
   },
   "file_extension": ".py",
   "mimetype": "text/x-python",
   "name": "python",
   "nbconvert_exporter": "python",
   "pygments_lexer": "ipython3",
   "version": "3.12.0"
  }
 },
 "nbformat": 4,
 "nbformat_minor": 5
}
